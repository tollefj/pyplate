{
 "cells": [
  {
   "cell_type": "code",
   "execution_count": 3,
   "metadata": {},
   "outputs": [],
   "source": [
    "import polars as pl\n",
    "from polars import col, lit\n"
   ]
  },
  {
   "cell_type": "code",
   "execution_count": 24,
   "metadata": {},
   "outputs": [
    {
     "name": "stdout",
     "output_type": "stream",
     "text": [
      "shape: (4, 4)\n",
      "┌─────────┬─────┬──────────┬────────┐\n",
      "│ name    ┆ age ┆ city     ┆ salary │\n",
      "│ ---     ┆ --- ┆ ---      ┆ ---    │\n",
      "│ str     ┆ i64 ┆ str      ┆ i64    │\n",
      "╞═════════╪═════╪══════════╪════════╡\n",
      "│ Alice   ┆ 25  ┆ New York ┆ 50000  │\n",
      "│ Bob     ┆ 32  ┆ London   ┆ 70000  │\n",
      "│ Charlie ┆ 28  ┆ Paris    ┆ 60000  │\n",
      "│ Dave    ┆ 45  ┆ Tokyo    ┆ 80000  │\n",
      "└─────────┴─────┴──────────┴────────┘\n"
     ]
    }
   ],
   "source": [
    "data = {\"name\": [\"Alice\", \"Bob\", \"Charlie\", \"Dave\"],\n",
    "        \"age\": [25, 32, 28, 45],\n",
    "        \"city\": [\"New York\", \"London\", \"Paris\", \"Tokyo\"],\n",
    "        \"salary\": [50000, 70000, 60000, 80000]}\n",
    "df = pl.DataFrame(data)\n",
    "print(df)\n"
   ]
  },
  {
   "cell_type": "code",
   "execution_count": 25,
   "metadata": {},
   "outputs": [
    {
     "name": "stdout",
     "output_type": "stream",
     "text": [
      "shape: (2, 4)\n",
      "┌──────┬─────┬────────┬────────┐\n",
      "│ name ┆ age ┆ city   ┆ salary │\n",
      "│ ---  ┆ --- ┆ ---    ┆ ---    │\n",
      "│ str  ┆ i64 ┆ str    ┆ i64    │\n",
      "╞══════╪═════╪════════╪════════╡\n",
      "│ Bob  ┆ 32  ┆ London ┆ 70000  │\n",
      "│ Dave ┆ 45  ┆ Tokyo  ┆ 80000  │\n",
      "└──────┴─────┴────────┴────────┘\n"
     ]
    }
   ],
   "source": [
    "filtered_df = df.filter(col(\"age\") > 30)\n",
    "print(filtered_df)\n"
   ]
  },
  {
   "cell_type": "code",
   "execution_count": 26,
   "metadata": {},
   "outputs": [
    {
     "name": "stdout",
     "output_type": "stream",
     "text": [
      "shape: (4, 2)\n",
      "┌─────────┬────────┐\n",
      "│ name    ┆ salary │\n",
      "│ ---     ┆ ---    │\n",
      "│ str     ┆ i64    │\n",
      "╞═════════╪════════╡\n",
      "│ Alice   ┆ 50000  │\n",
      "│ Bob     ┆ 70000  │\n",
      "│ Charlie ┆ 60000  │\n",
      "│ Dave    ┆ 80000  │\n",
      "└─────────┴────────┘\n"
     ]
    }
   ],
   "source": [
    "selected_df = df.select([\"name\", \"salary\"])\n",
    "print(selected_df)\n"
   ]
  },
  {
   "cell_type": "code",
   "execution_count": 27,
   "metadata": {},
   "outputs": [
    {
     "name": "stdout",
     "output_type": "stream",
     "text": [
      "shape: (1, 1)\n",
      "┌────────┐\n",
      "│ salary │\n",
      "│ ---    │\n",
      "│ i64    │\n",
      "╞════════╡\n",
      "│ 260000 │\n",
      "└────────┘\n"
     ]
    }
   ],
   "source": [
    "total_salary = df.select(col(\"salary\")).sum()\n",
    "print(total_salary)\n"
   ]
  },
  {
   "cell_type": "code",
   "execution_count": 28,
   "metadata": {},
   "outputs": [
    {
     "name": "stdout",
     "output_type": "stream",
     "text": [
      "shape: (4, 4)\n",
      "┌─────────┬─────┬──────────┬────────┐\n",
      "│ name    ┆ age ┆ city     ┆ salary │\n",
      "│ ---     ┆ --- ┆ ---      ┆ ---    │\n",
      "│ str     ┆ i64 ┆ str      ┆ i64    │\n",
      "╞═════════╪═════╪══════════╪════════╡\n",
      "│ Alice   ┆ 25  ┆ New York ┆ 50000  │\n",
      "│ Bob     ┆ 32  ┆ London   ┆ 70000  │\n",
      "│ Charlie ┆ 28  ┆ Paris    ┆ 60000  │\n",
      "│ Dave    ┆ 45  ┆ Tokyo    ┆ 80000  │\n",
      "└─────────┴─────┴──────────┴────────┘\n"
     ]
    }
   ],
   "source": [
    "clean_df = df.drop_nulls()\n",
    "print(clean_df)\n"
   ]
  },
  {
   "cell_type": "code",
   "execution_count": 29,
   "metadata": {},
   "outputs": [
    {
     "name": "stdout",
     "output_type": "stream",
     "text": [
      "shape: (4, 4)\n",
      "┌─────────┬─────┬──────────┬────────┐\n",
      "│ name    ┆ age ┆ city     ┆ salary │\n",
      "│ ---     ┆ --- ┆ ---      ┆ ---    │\n",
      "│ str     ┆ i64 ┆ str      ┆ i64    │\n",
      "╞═════════╪═════╪══════════╪════════╡\n",
      "│ Alice   ┆ 25  ┆ New York ┆ 50000  │\n",
      "│ Bob     ┆ 32  ┆ London   ┆ 70000  │\n",
      "│ Charlie ┆ 28  ┆ Paris    ┆ 60000  │\n",
      "│ Dave    ┆ 45  ┆ Tokyo    ┆ 80000  │\n",
      "└─────────┴─────┴──────────┴────────┘\n"
     ]
    }
   ],
   "source": [
    "filled_df = df.fill_null(\"N/A\")\n",
    "print(filled_df)\n"
   ]
  }
 ],
 "metadata": {
  "kernelspec": {
   "display_name": "base",
   "language": "python",
   "name": "python3"
  },
  "language_info": {
   "codemirror_mode": {
    "name": "ipython",
    "version": 3
   },
   "file_extension": ".py",
   "mimetype": "text/x-python",
   "name": "python",
   "nbconvert_exporter": "python",
   "pygments_lexer": "ipython3",
   "version": "3.9.13"
  },
  "orig_nbformat": 4
 },
 "nbformat": 4,
 "nbformat_minor": 2
}
